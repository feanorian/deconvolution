{
 "cells": [
  {
   "cell_type": "markdown",
   "id": "2ef22f0d-f128-412f-89cf-4397a61e20dc",
   "metadata": {},
   "source": [
    "# `sewpy` Tutorial"
   ]
  },
  {
   "cell_type": "markdown",
   "id": "510c5343-8801-4e5a-9b66-2244d755e825",
   "metadata": {},
   "source": [
    "#### This notebook will got through how to generate the tables for every cluster that will merge the GoGreen catalogs and the output from SEXtractor (in particular we want the FWHM in pixels and arcsecond, as well as the flags and `FLUX_RADIUS`. First, here are the imports I use. Additionally, this can be executed in a script called `sextract_light_v2.py`"
   ]
  },
  {
   "cell_type": "code",
   "execution_count": null,
   "id": "4c5f7a50-901a-4405-beb0-d5797456f3ca",
   "metadata": {},
   "outputs": [],
   "source": [
    "# This just ensures that I am in the folder that contain my scripts. I tend ensure that the scripts are at the highest level of my working folder. Execute this first to ensure the custom imports work properly"
   ]
  },
  {
   "cell_type": "code",
   "execution_count": null,
   "id": "1734da62-9d93-43ec-b61f-a3f517e553b1",
   "metadata": {},
   "outputs": [],
   "source": [
    "cd /path/to/custom/module"
   ]
  },
  {
   "cell_type": "code",
   "execution_count": 4,
   "id": "7b5c5205-3564-4452-b704-7494c7f5b54e",
   "metadata": {},
   "outputs": [],
   "source": [
    "import os\n",
    "import sys\n",
    "import platform\n",
    "import pandas as pd \n",
    "import math\n",
    "import glob\n",
    "import csv\n",
    "import sewpy\n",
    "import cat_match\n",
    "import matplotlib.pyplot as plt\n",
    "#from cat_match import main, phot_match, load_catalog, plot_catalog, gg_table_main, show_gg # <-- this is a custom module I made that has routines to do catalog matching\n",
    "import cat_match \n",
    "from astropy.io import ascii,fits\n",
    "from astropy.table import Table, Column\n",
    "from astropy.utils.data import get_pkg_data_filename\n",
    "from astropy.visualization import simple_norm\n",
    "from astropy.wcs import WCS\n",
    "import numpy as np \n",
    "from astropy.coordinates import SkyCoord\n",
    "from astropy import units as u\n",
    "import time"
   ]
  },
  {
   "cell_type": "markdown",
   "id": "ccf7344f-131b-46a7-bb95-1749a29b2988",
   "metadata": {},
   "source": [
    "#### Here is some code that will make sure your code is agnostic with respect to directory structure (This is tested on the pop!OS, Manjaro, and macOS). You can modify this code to suit your system\n"
   ]
  },
  {
   "cell_type": "code",
   "execution_count": 5,
   "id": "b65d1851-dbb4-4b5e-9a2d-f0d7724aa23d",
   "metadata": {},
   "outputs": [],
   "source": [
    "os_check = platform.platform(terse=True)[:5]\n",
    "if os_check == 'macOS':\n",
    "    preamble = '/path/to/mac/'\n",
    "    root2 = f'{preamble}Deconvolution/'\n",
    "    root1 = f'{root2}Data/PHOTOMETRY/PHOTOM_CATS/'\n",
    "else:\n",
    "    preamble = '/path/to/linux/'\n",
    "    root2 = f'{preamble}Deconvolution/'\n",
    "    root1 = f'{root2}Data/PHOTOMETRY/PHOTOM_CATS/'"
   ]
  },
  {
   "cell_type": "markdown",
   "id": "97ccb897-dbc3-4358-af19-22ca18f82d47",
   "metadata": {},
   "source": [
    "#### Now, here are the functions that we will use to help run the script"
   ]
  },
  {
   "cell_type": "code",
   "execution_count": 6,
   "id": "ea85f8b8-4e58-4a7d-86fd-a441faab3cff",
   "metadata": {},
   "outputs": [],
   "source": [
    "def match_catalogs(gg_df, catalogs_dict, ra_key='ra_x', dec_key='dec_x'):\n",
    "    \"\"\"\n",
    "    Matches a main catalog (gg_df) to multiple catalogs in a dictionary using astropy's match_to_catalog_sky,\n",
    "    and performs an outer merge using pandas.\n",
    "\n",
    "    Parameters:\n",
    "    gg_df (pandas.DataFrame): The main catalog with columns for RA and Dec.\n",
    "    catalogs_dict (dict): A dictionary where keys are catalog names and values are catalogs to be matched.\n",
    "    ra_key (str): The key for RA in the main catalog. Default is 'ra_x'.\n",
    "    dec_key (str): The key for Dec in the main catalog. Default is 'dec_x'.\n",
    "\n",
    "    Returns:\n",
    "    pandas.DataFrame: The merged DataFrame with matched columns added.\n",
    "    \"\"\"\n",
    "\n",
    "    # Create SkyCoord object for the main catalog\n",
    "    gg_coords = SkyCoord(ra=gg_df[ra_key], dec=gg_df[dec_key], unit='deg')\n",
    "\n",
    "    for name, catalog in catalogs_dict.items():\n",
    "        # Create SkyCoord object for the catalog to match\n",
    "        cat_coords = SkyCoord(ra=catalog[f'ra_{name}'], dec=catalog[f'dec_{name}'], unit='deg')\n",
    "\n",
    "        # Perform the match\n",
    "        idx, d2d, d3d = gg_coords.match_to_catalog_sky(cat_coords)\n",
    "\n",
    "        # Convert the matched catalog to a pandas DataFrame\n",
    "        matched_df = catalog.iloc[idx].reset_index(drop=True)\n",
    "\n",
    "        # Rename columns to avoid conflicts\n",
    "        matched_df = matched_df.add_prefix(f\"{name}_\")\n",
    "\n",
    "        # Add separation columns to matched_df\n",
    "        matched_df[f'{name}_separation_2d'] = d2d.arcsec\n",
    "\n",
    "        # Merge the matched DataFrame with the main DataFrame (incrementally)\n",
    "        gg_df = pd.merge(gg_df, matched_df, left_index=True, right_index=True, how='outer')\n",
    "\n",
    "    return gg_df\n",
    "\n",
    "\n",
    "def print_band(cluster, file_list, prefix, suffix):\n",
    "  \n",
    "    for file in file_list:\n",
    "    \n",
    "        result = trim_mos_fits(file, prefix, suffix)\n",
    "        #print(cluster, result)  # Output: example_filename\n",
    "        clust_list.append(cluster)\n",
    "        bands_list.append(result)\n",
    "        files_list.append(file)\n",
    "\n",
    "\n",
    "def trim_mos_fits(input_string, prefix, suffix):\n",
    "    if input_string.startswith(prefix) and input_string.endswith(suffix):\n",
    "        # Remove \"mos\" from the beginning and \".fits\" from the end\n",
    "        int_string = input_string.replace(prefix, '')\n",
    "        final_string = int_string.replace(suffix, '')\n",
    "        return final_string\n",
    "        #return input_string[3:-5]\n",
    "    else:\n",
    "        raise ValueError(\"The input string does not start with 'mos' and end with '.fits'.\")\n",
    "\n",
    "\n",
    "def file_table():\n",
    "\n",
    "    for cluster in clusters:\n",
    "        data_path = f'{root2}{cluster}/GOGREEN_IMAGES/native/images/'\n",
    "        prefix = f'{data_path}mos_'\n",
    "        suffix = '_3.fits'\n",
    "        files = sorted(glob.glob(os.path.join(f'{data_path}', '*.fits')))\n",
    "        print_band(cluster, files, prefix, suffix)\n",
    "        #cluster_dic[cluster] = cluster_files\n",
    "\n",
    "    \n",
    "    df['Cluster'] = clust_list\n",
    "    df['Band'] = bands_list\n",
    "    df['File'] = files_list\n",
    "\n",
    "\n",
    "\n",
    "\n",
    "\n"
   ]
  },
  {
   "cell_type": "code",
   "execution_count": null,
   "id": "11818128-7f66-476e-b490-59d0379b93d5",
   "metadata": {},
   "outputs": [],
   "source": [
    "# this can also be the final_merge table made in Tutorial 1\n",
    "cluster_df = pd.read_csv('final_file_merge.csv')\n",
    "cluster_df"
   ]
  },
  {
   "cell_type": "markdown",
   "id": "0d8a3f0c-9517-4178-8833-eba1886521b9",
   "metadata": {},
   "source": [
    "#### Below are the parameters we want to obtain using `sewpy`"
   ]
  },
  {
   "cell_type": "code",
   "execution_count": 8,
   "id": "b2a9f197-a422-4e54-b604-473c54d640ea",
   "metadata": {},
   "outputs": [],
   "source": [
    "params = [\n",
    "\t\"NUMBER\",\n",
    "\t\"X_IMAGE\",\n",
    "\t\"Y_IMAGE\",\n",
    "\t\"FWHM_IMAGE\",\n",
    "\t\"FWHM_WORLD\",\n",
    "\t\"FLUX_RADIUS\",\n",
    "\t\"FLUX_AUTO\",\n",
    "\t\"FLUX_APER\",\n",
    "\t\"FLAGS\"\n",
    "\n",
    "\t]\n",
    "sex_path = '/usr/local/bin/sex'\n",
    "\n",
    "clusters = ['SpARCS0035', 'SpARCS0219','SpARCS0335','SpARCS1034','SpARCS1051','SpARCS1616','SpARCS1634','SpARCS1638','SPT0546', 'SPT0205', 'SPT2106'] # <-- the clusters \n",
    "\n"
   ]
  },
  {
   "cell_type": "markdown",
   "id": "0e7ab52c-a0cf-43fb-a603-148d5349bc3c",
   "metadata": {},
   "source": [
    "#### Now here is the main code to execute. The input is an array containing the cluster names"
   ]
  },
  {
   "cell_type": "code",
   "execution_count": 9,
   "id": "3c73d34c-9705-41bf-9475-d42e82743ceb",
   "metadata": {},
   "outputs": [],
   "source": [
    "def main(clusters):\n",
    "    # selecting rows based on condition \n",
    "    #filtered_df = cluster_df.loc[cluster_df['Cluster'] == cluster]\n",
    "    \n",
    "    for cluster in clusters:\n",
    "        cat_file_gg_csv = f'{root2}{cluster}/{cluster}_gal_table_photomcats_merged.csv'\n",
    "        cat_file_gg = pd.read_csv(cat_file_gg_csv)\n",
    "        index_dict = cluster\n",
    "        catalog_dic = {}\n",
    "        filtered_df = cluster_df.loc[cluster_df['Cluster'] == cluster]\n",
    "        for i in filtered_df.index:\n",
    "            work_dir = f'{root2}{cluster}/sewpy'\n",
    "            #band_paths = sorted(glob.glob(os.path.join(f'{data_path}', jband)))\n",
    "            hdu = fits.open(get_pkg_data_filename(filtered_df['Data File'][i]))[0]\n",
    "            wcs = WCS(hdu)\n",
    "            for band in filtered_df[\"Band\"]:\n",
    "                ra_col_match, dec_col_match = f'ra_{band}', f'dec_{band}' \n",
    "                #ra_test.append(ra_col_match)\n",
    "                #dec_test.append(dec_col_match)\n",
    "            \n",
    "                sew = sewpy.SEW(workdir=f'{work_dir}/{band}', params=params, sexpath=sex_path)\n",
    "                sex_output= sew(filtered_df['Data File'][i])\n",
    "                catalog = sex_output['table']\n",
    "                catalog = catalog.to_pandas()\n",
    "                catalog.rename(columns={'X_IMAGE': f'X_IMAGE_{band}', 'Y_IMAGE': f'Y_IMAGE_{band}', f'FLUX_RADIUS': f'R_e{band}'}, inplace=True)\n",
    "                pixels = [(ra_pix, dec_pix) for ra_pix, dec_pix in zip(catalog[f'X_IMAGE_{band}'], catalog[f'Y_IMAGE_{band}']) ]\n",
    "                ra_dec = [wcs.pixel_to_world(ra, dec) for (ra, dec) in pixels]\n",
    "                ra = [ra_dec[i].ra.deg for i in range(len(ra_dec))]\n",
    "                dec = [ra_dec[i].dec.deg for i in range(len(ra_dec))]\n",
    "                catalog[f'ra_{band}'] = ra\n",
    "                catalog[f'dec_{band}'] = dec\n",
    "                #catalog_r['R_er'] = 1/hl_table_r['1/R_er']\n",
    "                catalog.dropna(subset=f'ra_{band}', inplace=True)\n",
    "                catalog_to_dict = catalog.to_dict()\n",
    "                catalog_dic[band] = catalog\n",
    "                matched_table = match_catalogs(cat_file_gg, catalog_dic)\n",
    "        #matched_table.to_csv(f'{root2}/merged_catalogs/{cluster}_gg_sextractor_merged.csv')\n",
    "        display(matched_table)\n",
    "            #main_indices_dict[index_dict] = matched_indices\n",
    "            #main_se_dict[cluster][filtered_df[\"Band\"][i]] = catalog_to_dict"
   ]
  },
  {
   "cell_type": "code",
   "execution_count": null,
   "id": "64e20cbe-7b4f-4487-9a61-faf62a058795",
   "metadata": {},
   "outputs": [],
   "source": [
    "t0 = time.time()"
   ]
  },
  {
   "cell_type": "code",
   "execution_count": null,
   "id": "30df22c1-acb2-4baa-b6ed-dcb127b19889",
   "metadata": {
    "scrolled": true
   },
   "outputs": [],
   "source": [
    "main(clusters)"
   ]
  },
  {
   "cell_type": "code",
   "execution_count": null,
   "id": "55ac1e08-0bc8-4618-ad6b-2f00e35d0ce5",
   "metadata": {},
   "outputs": [],
   "source": [
    "t1 = time.time()\n",
    "total_time = (t1 - t0)/60\n",
    "print(f'Total time: {total_time} minutes')"
   ]
  },
  {
   "cell_type": "markdown",
   "id": "7027670b-845d-48d6-9365-11cf501ec117",
   "metadata": {},
   "source": [
    "# Measure the FWHM of the PSFS\n",
    "#### Here, we will try to measure the FWHM of all the PSF's we generated earlier, plot the PSF, and calculate the FWHM on each plot"
   ]
  },
  {
   "cell_type": "code",
   "execution_count": 16,
   "id": "175c9123-4748-41c0-b022-76ff091c797e",
   "metadata": {},
   "outputs": [],
   "source": [
    "data_path = f'{root2}PSFs'\n",
    "work_dir = f'{root2}sewpy_psf/'"
   ]
  },
  {
   "cell_type": "code",
   "execution_count": null,
   "id": "69115170-2d76-4140-b1f8-a8b986a6e4f4",
   "metadata": {
    "scrolled": true
   },
   "outputs": [],
   "source": [
    "psf_files = sorted(glob.glob(os.path.join(f'{data_path}', '*.fits')))\n",
    "for file in psf_files:\n",
    "    suffix = \".fits\"\n",
    "    updated_string = file.replace(f'{data_path}/', \"\")\n",
    "    updated_string = updated_string.replace(suffix, \"\")\n",
    "    #print(updated_string)\n",
    "    with fits.open(file) as hdul:\n",
    "        \n",
    "        image_data = hdul[0].data\n",
    "        wcs = WCS(hdul[0].header)\n",
    "        sew = sewpy.SEW(workdir=work_dir, params=params, sexpath=sex_path)\n",
    "        sex_output= sew(file)\n",
    "        catalog = sex_output['table']\n",
    "        catalog = catalog.to_pandas()\n",
    "        new_cat = catalog[catalog['FLUX_AUTO'] == max(catalog['FLUX_AUTO'])]\n",
    "        pixel_x = new_cat['X_IMAGE']\n",
    "        pixel_y = new_cat['Y_IMAGE']\n",
    "        size = new_cat['FWHM_IMAGE']\n",
    "        size_arc = np.round((float(new_cat['FWHM_IMAGE']) * .2)/2, 3)\n",
    "        plt.imshow(image_data, origin='lower', cmap='viridis')\n",
    "        plt.text(40, 100, f'PSF Size {size_arc} arcseconds', fontsize=12, color='white')\n",
    "        plt.scatter(pixel_x, pixel_y, s=size*2, edgecolor='red', facecolor='none', label='FWHM')\n",
    "        plt.title(updated_string)\n",
    "        plt.show()"
   ]
  },
  {
   "cell_type": "code",
   "execution_count": null,
   "id": "9eeeeb8e-3f6d-46d3-8c08-8640f8c6aac4",
   "metadata": {},
   "outputs": [],
   "source": []
  },
  {
   "cell_type": "code",
   "execution_count": null,
   "id": "6659cd61-be8d-4add-b3f3-d1ac69a26f24",
   "metadata": {},
   "outputs": [],
   "source": []
  },
  {
   "cell_type": "code",
   "execution_count": 22,
   "id": "5dbec362-f0d0-4a48-a103-3c1143e6a2ca",
   "metadata": {},
   "outputs": [],
   "source": []
  },
  {
   "cell_type": "code",
   "execution_count": null,
   "id": "8c5f34ab-9f75-44de-84a0-406ef1c86914",
   "metadata": {},
   "outputs": [],
   "source": []
  },
  {
   "cell_type": "code",
   "execution_count": null,
   "id": "0e038099-d480-4de9-b9bd-935af2b7af72",
   "metadata": {},
   "outputs": [],
   "source": []
  },
  {
   "cell_type": "code",
   "execution_count": null,
   "id": "aed9facb-0e54-4fdb-8ae5-f6924d3e5198",
   "metadata": {},
   "outputs": [],
   "source": []
  },
  {
   "cell_type": "code",
   "execution_count": null,
   "id": "a5e60065-9f56-4420-9d14-7ad4454d378f",
   "metadata": {},
   "outputs": [],
   "source": []
  },
  {
   "cell_type": "code",
   "execution_count": null,
   "id": "4d35dbd4-5334-4ae1-906e-dcf67785fbe3",
   "metadata": {},
   "outputs": [],
   "source": []
  },
  {
   "cell_type": "code",
   "execution_count": 50,
   "id": "aa695f1b-36c5-4fd9-8722-24a3e009d7ed",
   "metadata": {},
   "outputs": [],
   "source": []
  },
  {
   "cell_type": "code",
   "execution_count": 46,
   "id": "41e78b7f-a0ba-46b2-bc1b-9288be9c3b91",
   "metadata": {},
   "outputs": [],
   "source": []
  },
  {
   "cell_type": "code",
   "execution_count": null,
   "id": "e86cf61f-4c63-4937-9603-b9e8f01b6263",
   "metadata": {},
   "outputs": [],
   "source": []
  },
  {
   "cell_type": "code",
   "execution_count": 37,
   "id": "4bb86944-f16a-43b9-97be-5471d0c75159",
   "metadata": {},
   "outputs": [],
   "source": []
  },
  {
   "cell_type": "code",
   "execution_count": 40,
   "id": "faca4d15-eba0-4383-8578-c156d2164b17",
   "metadata": {},
   "outputs": [],
   "source": []
  },
  {
   "cell_type": "code",
   "execution_count": null,
   "id": "dd6a460e-cffb-429c-9d27-c70d55c47748",
   "metadata": {},
   "outputs": [],
   "source": []
  },
  {
   "cell_type": "code",
   "execution_count": null,
   "id": "a4b6e253-f7f7-4b11-a2e4-1558d859cdde",
   "metadata": {},
   "outputs": [],
   "source": []
  },
  {
   "cell_type": "code",
   "execution_count": null,
   "id": "2f4fc7a6-4bc2-424b-a732-c18ec51317e4",
   "metadata": {},
   "outputs": [],
   "source": []
  },
  {
   "cell_type": "code",
   "execution_count": null,
   "id": "74b58942-7c45-4387-93e9-0b488ba4b69a",
   "metadata": {},
   "outputs": [],
   "source": []
  },
  {
   "cell_type": "code",
   "execution_count": null,
   "id": "f0f38058-af52-467b-bee8-b67d186272bf",
   "metadata": {},
   "outputs": [],
   "source": []
  }
 ],
 "metadata": {
  "kernelspec": {
   "display_name": "Python 3 (ipykernel)",
   "language": "python",
   "name": "python3"
  },
  "language_info": {
   "codemirror_mode": {
    "name": "ipython",
    "version": 3
   },
   "file_extension": ".py",
   "mimetype": "text/x-python",
   "name": "python",
   "nbconvert_exporter": "python",
   "pygments_lexer": "ipython3",
   "version": "3.10.6"
  }
 },
 "nbformat": 4,
 "nbformat_minor": 5
}
